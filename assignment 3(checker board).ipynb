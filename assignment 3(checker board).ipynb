{
  "nbformat": 4,
  "nbformat_minor": 0,
  "metadata": {
    "colab": {
      "name": "Untitled0.ipynb",
      "provenance": [],
      "authorship_tag": "ABX9TyOsgpSxafqfbBdixQJCE13t",
      "include_colab_link": true
    },
    "kernelspec": {
      "name": "python3",
      "display_name": "Python 3"
    }
  },
  "cells": [
    {
      "cell_type": "markdown",
      "metadata": {
        "id": "view-in-github",
        "colab_type": "text"
      },
      "source": [
        "<a href=\"https://colab.research.google.com/github/1999santhoshkotian/project-/blob/master/assignment%203(checker%20board).ipynb\" target=\"_parent\"><img src=\"https://colab.research.google.com/assets/colab-badge.svg\" alt=\"Open In Colab\"/></a>"
      ]
    },
    {
      "cell_type": "code",
      "metadata": {
        "id": "3jGT2UGxqSwe",
        "colab_type": "code",
        "colab": {}
      },
      "source": [
        "import numpy as np\n",
        "import cv2\n",
        "b=np.zeros([800,800],dtype='unit8')\n",
        "i=0\n",
        "flag=0\n",
        "while i<=800:\n",
        "  j=0\n",
        "if flag==0:\n",
        "while j<=800:\n",
        "b[j:j+100,i:i+100]=255\n",
        "flag=1\n",
        "j=j+200\n",
        "else\n",
        "while j<=800:\n",
        "  b[j+100:j+200,i:i+100]=255\n",
        "  flag=0\n",
        "  j=j+200\n",
        "  i=i+100\n",
        "  cv2.imshow('Checkerboard 8*8',b)\n",
        "  cv2.waitkey(0)\n",
        "  cv2.destoryAllwindows()\n",
        "    "
      ],
      "execution_count": null,
      "outputs": []
    },
    {
      "cell_type": "code",
      "metadata": {
        "id": "YGMG1ZpIxjc3",
        "colab_type": "code",
        "colab": {}
      },
      "source": [
        "import numpy as np\n",
        "import cv2\n",
        "b = np.zeros([400,400],dtype='uint8')\n",
        "n=50\n",
        "j=n\n",
        "while(j<=400):\n",
        "  i=n\n",
        "while (j<=400):\n",
        "  \n",
        "  \n",
        "    b[j-n:j,i-n:i]=255\n",
        "    b[j:j+n,i:i+n]=255\n",
        "    i=i+n*2\n",
        "    j=j+n*2\n",
        "    cv2.imshow('checkerboard 8*8',b)\n",
        "    cv2.waitkey(0)\n",
        "    cv2.destoryallWindows()"
      ],
      "execution_count": null,
      "outputs": []
    },
    {
      "cell_type": "code",
      "metadata": {
        "id": "kW4G4l8cWjCB",
        "colab_type": "code",
        "colab": {}
      },
      "source": [
        ""
      ],
      "execution_count": null,
      "outputs": []
    }
  ]
}